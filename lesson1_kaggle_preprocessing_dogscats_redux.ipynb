{
 "cells": [
  {
   "cell_type": "markdown",
   "metadata": {},
   "source": [
    "**What I want to do: **Play the dogs versus cats competition on kaggle by fine-tuning a pretrained deep learning model, specifically the Vgg16 model."
   ]
  },
  {
   "cell_type": "markdown",
   "metadata": {},
   "source": [
    "## Step 1 - Sign up for the dogs v cats comp"
   ]
  },
  {
   "cell_type": "markdown",
   "metadata": {},
   "source": [
    "Sign up [here](https://www.kaggle.com/c/dogs-vs-cats-redux-kernels-edition). You can actually sign up when you try to make a submission or when you try to download the data. There are 25,000 labelled dog and cat photos available for training, and 12,500 in the test set that we have to try to label for this competition"
   ]
  },
  {
   "cell_type": "markdown",
   "metadata": {},
   "source": [
    "## Step 2 - Set up the kaggle cli"
   ]
  },
  {
   "cell_type": "markdown",
   "metadata": {},
   "source": [
    "The command line interface for kaggle has been developed by this [fine gentleman](https://github.com/floydwch/kaggle-cli). thank you!\n",
    "\n",
    "In this case, the competition name is \"dogs-vs-cats-redux-kernels-edition\". Also dont forget to globally configure your username and password."
   ]
  },
  {
   "cell_type": "code",
   "execution_count": 2,
   "metadata": {
    "collapsed": false
   },
   "outputs": [],
   "source": [
    "#!pip install kaggle-cli"
   ]
  },
  {
   "cell_type": "code",
   "execution_count": 19,
   "metadata": {
    "collapsed": false
   },
   "outputs": [],
   "source": [
    "#!kg config -g -u '###' -p '#####' -c 'dogs-vs-cats-redux-kernels-edition'\n",
    "#!kg config"
   ]
  },
  {
   "cell_type": "code",
   "execution_count": 8,
   "metadata": {
    "collapsed": false
   },
   "outputs": [
    {
     "data": {
      "text/plain": [
       "'/home/ubuntu/kaggle_dogs_cats'"
      ]
     },
     "execution_count": 8,
     "metadata": {},
     "output_type": "execute_result"
    }
   ],
   "source": [
    "import os\n",
    "os.getcwd()"
   ]
  },
  {
   "cell_type": "code",
   "execution_count": 14,
   "metadata": {
    "collapsed": false
   },
   "outputs": [
    {
     "name": "stdout",
     "output_type": "stream",
     "text": [
      "/home/ubuntu/kaggle_dogs_cats/data_redux\n"
     ]
    }
   ],
   "source": [
    "#!mkdir data_redux\n",
    "#%cd data_redux"
   ]
  },
  {
   "cell_type": "code",
   "execution_count": 18,
   "metadata": {
    "collapsed": false
   },
   "outputs": [
    {
     "name": "stdout",
     "output_type": "stream",
     "text": [
      "downloading https://www.kaggle.com/c/dogs-vs-cats-redux-kernels-edition/download/test.zip\n",
      "\n",
      "test.zip 100% |######################################| Time: 0:00:10  24.7 MiB/s\n",
      "downloading https://www.kaggle.com/c/dogs-vs-cats-redux-kernels-edition/download/train.zip\n",
      "\n",
      "train.zip 100% |#####################################| Time: 0:00:20  26.3 MiB/s\n",
      "downloading https://www.kaggle.com/c/dogs-vs-cats-redux-kernels-edition/download/sample_submission.csv\n",
      "\n",
      "sample_submission.csv 100% |#########################| Time: 0:00:00 269.2 KiB/s\n"
     ]
    }
   ],
   "source": [
    "!kg download"
   ]
  },
  {
   "cell_type": "markdown",
   "metadata": {},
   "source": [
    "## Step 3 - Download the data"
   ]
  },
  {
   "cell_type": "markdown",
   "metadata": {},
   "source": [
    "Enter \"kg download\" from the kaggle-cli after creating a separate folder called kaggle_dogscats in your data directory. Note, I'm assuming you're using a large GPU box. Otherwise this will be miserably slow.\n",
    "\n",
    "After you've finished downloading, you'll see a sample file and 2 zip files for test and train. Unzip these latter files to get 2 new directories for test and train\n",
    "\n",
    "unzip test.zip<br\\>\n",
    "unzip train.zip"
   ]
  },
  {
   "cell_type": "code",
   "execution_count": 21,
   "metadata": {
    "collapsed": false
   },
   "outputs": [
    {
     "name": "stdout",
     "output_type": "stream",
     "text": [
      "sample_submission.csv  test  test.zip  train  train.zip\r\n"
     ]
    }
   ],
   "source": [
    "!ls"
   ]
  },
  {
   "cell_type": "markdown",
   "metadata": {},
   "source": [
    "## Step 4 - Explore the data"
   ]
  },
  {
   "cell_type": "markdown",
   "metadata": {},
   "source": [
    "\n",
    "ls test/ | wc -l   # 12500 images in test set<br>\n",
    "ls train/ | wc -l  # 25000 images in training set\n",
    "\n",
    "ls kaggle_dogscats/train/ | less  <br>\n",
    "ls kaggle_dogscats/train/ | tail   # i see that in the training set, images are in the format  class(dog/cat).image_id(986660).jpg\n",
    "\n",
    "ls kaggle_dogscats/test/ | tail    # in the test set though, images are in the format image_id(986660).jpg<br>\n",
    "\n",
    "ls kaggle_dogscats/train/ | grep 'dog' | wc -l    # 12500 images of dog in the training set<br>\n",
    "ls kaggle_dogscats/train/ | grep 'cat' | wc -l    # 12500 images of cat in the training set\n",
    "\n",
    "so I'll use uniform distribution for shuffling and sampling the training data. \n"
   ]
  },
  {
   "cell_type": "code",
   "execution_count": 23,
   "metadata": {
    "collapsed": false
   },
   "outputs": [
    {
     "name": "stdout",
     "output_type": "stream",
     "text": [
      "12500\n",
      "25000\n"
     ]
    }
   ],
   "source": [
    "!ls test/ | wc -l\n",
    "!ls train/ | wc -l"
   ]
  },
  {
   "cell_type": "code",
   "execution_count": 24,
   "metadata": {
    "collapsed": false
   },
   "outputs": [
    {
     "name": "stdout",
     "output_type": "stream",
     "text": [
      "dog.9993.jpg\r\n",
      "dog.9994.jpg\r\n",
      "dog.9995.jpg\r\n",
      "dog.9996.jpg\r\n",
      "dog.9997.jpg\r\n",
      "dog.9998.jpg\r\n",
      "dog.9999.jpg\r\n",
      "dog.999.jpg\r\n",
      "dog.99.jpg\r\n",
      "dog.9.jpg\r\n"
     ]
    }
   ],
   "source": [
    "!ls train/ | tail"
   ]
  },
  {
   "cell_type": "code",
   "execution_count": 25,
   "metadata": {
    "collapsed": false
   },
   "outputs": [
    {
     "name": "stdout",
     "output_type": "stream",
     "text": [
      "9993.jpg\r\n",
      "9994.jpg\r\n",
      "9995.jpg\r\n",
      "9996.jpg\r\n",
      "9997.jpg\r\n",
      "9998.jpg\r\n",
      "9999.jpg\r\n",
      "999.jpg\r\n",
      "99.jpg\r\n",
      "9.jpg\r\n"
     ]
    }
   ],
   "source": [
    "!ls test/ | tail"
   ]
  },
  {
   "cell_type": "code",
   "execution_count": 27,
   "metadata": {
    "collapsed": false
   },
   "outputs": [
    {
     "name": "stdout",
     "output_type": "stream",
     "text": [
      "12500\n",
      "12500\n"
     ]
    }
   ],
   "source": [
    "!ls train/ | grep 'dog' | wc -l\n",
    "!ls train/ | grep 'cat' | wc -l"
   ]
  },
  {
   "cell_type": "markdown",
   "metadata": {},
   "source": [
    "## Step 5 - Split images into training, test, validation and sample sets"
   ]
  },
  {
   "cell_type": "markdown",
   "metadata": {},
   "source": [
    "Execute \"split_images_into_directories.py\" "
   ]
  },
  {
   "cell_type": "code",
   "execution_count": 29,
   "metadata": {
    "collapsed": false
   },
   "outputs": [
    {
     "name": "stdout",
     "output_type": "stream",
     "text": [
      "/home/ubuntu/kaggle_dogs_cats\n"
     ]
    }
   ],
   "source": [
    "#%cd .."
   ]
  },
  {
   "cell_type": "code",
   "execution_count": 30,
   "metadata": {
    "collapsed": false
   },
   "outputs": [],
   "source": [
    "from split_images_into_directories import *"
   ]
  },
  {
   "cell_type": "code",
   "execution_count": 31,
   "metadata": {
    "collapsed": false
   },
   "outputs": [
    {
     "name": "stdout",
     "output_type": "stream",
     "text": [
      "0 files were unable to be classified into response classes in the 'train' sub-directory within the 'data_redux/sample' directory\n",
      "0 files were unable to be classified into response classes in the 'valid' sub-directory within the 'data_redux/sample' directory\n",
      "0 files were unable to be classified into response classes in the 'train' sub-directory within the 'data_redux/train' directory\n",
      "0 files were unable to be classified into response classes in the 'valid' sub-directory within the 'data_redux/train' directory\n"
     ]
    },
    {
     "data": {
      "text/plain": [
       "'Success'"
      ]
     },
     "execution_count": 31,
     "metadata": {},
     "output_type": "execute_result"
    }
   ],
   "source": [
    "split_image_dataset_into_train_test_validation_sample(\"data_redux\", \n",
    "                                                       response_classes=['dog','cat'],\n",
    "                                                       perc_split = 0.8)"
   ]
  },
  {
   "cell_type": "markdown",
   "metadata": {},
   "source": [
    "The whole process barely took 2 seconds!"
   ]
  },
  {
   "cell_type": "markdown",
   "metadata": {},
   "source": [
    "## Step 6 - Test whether the directories are how you want it to be "
   ]
  },
  {
   "cell_type": "markdown",
   "metadata": {},
   "source": [
    "I manually checked whether the file splits are to my satisfaction. It all checks out!"
   ]
  },
  {
   "cell_type": "code",
   "execution_count": 37,
   "metadata": {
    "collapsed": false
   },
   "outputs": [
    {
     "data": {
      "text/plain": [
       "['train.zip',\n",
       " 'valid',\n",
       " 'sample_submission.csv',\n",
       " 'unprocessed',\n",
       " 'train',\n",
       " 'test',\n",
       " 'sample',\n",
       " 'test.zip']"
      ]
     },
     "execution_count": 37,
     "metadata": {},
     "output_type": "execute_result"
    }
   ],
   "source": [
    "os.listdir('data_redux')"
   ]
  },
  {
   "cell_type": "code",
   "execution_count": 41,
   "metadata": {
    "collapsed": false
   },
   "outputs": [
    {
     "name": "stdout",
     "output_type": "stream",
     "text": [
      "('data_redux/valid', 2)\n",
      "('data_redux/unprocessed', 0)\n",
      "('data_redux/train', 2)\n",
      "('data_redux/test', 12500)\n",
      "('data_redux/sample', 2)\n"
     ]
    }
   ],
   "source": [
    "for subdirs in ['valid','unprocessed','train','test','sample']:\n",
    "    print (os.path.join('data_redux',subdirs),len(os.listdir(os.path.join('data_redux',subdirs))))"
   ]
  },
  {
   "cell_type": "code",
   "execution_count": 44,
   "metadata": {
    "collapsed": false
   },
   "outputs": [
    {
     "name": "stdout",
     "output_type": "stream",
     "text": [
      "2520\n",
      "2480\n",
      "9980\n",
      "10020\n"
     ]
    }
   ],
   "source": [
    "!ls data_redux/valid/cat | wc -l\n",
    "!ls data_redux/valid/dog | wc -l\n",
    "!ls data_redux/train/cat | wc -l\n",
    "!ls data_redux/train/dog | wc -l"
   ]
  },
  {
   "cell_type": "code",
   "execution_count": 46,
   "metadata": {
    "collapsed": false
   },
   "outputs": [
    {
     "name": "stdout",
     "output_type": "stream",
     "text": [
      "43\n",
      "7\n"
     ]
    }
   ],
   "source": [
    "!ls data_redux/sample/train/cat | wc -l\n",
    "!ls data_redux/sample/valid/cat | wc -l"
   ]
  },
  {
   "cell_type": "markdown",
   "metadata": {},
   "source": [
    "## Step7: Rewrite the code taught during lesson 1 in the fastai course for the new dataset"
   ]
  },
  {
   "cell_type": "markdown",
   "metadata": {},
   "source": [
    "FIN. Step 7 onwards will be in another ipynb. I want to logically break here because I'm hungry. Also dont want to run the split image piece of code each time I run the amazon instance."
   ]
  }
 ],
 "metadata": {
  "anaconda-cloud": {},
  "kernelspec": {
   "display_name": "Python [conda root]",
   "language": "python",
   "name": "conda-root-py"
  },
  "language_info": {
   "codemirror_mode": {
    "name": "ipython",
    "version": 2
   },
   "file_extension": ".py",
   "mimetype": "text/x-python",
   "name": "python",
   "nbconvert_exporter": "python",
   "pygments_lexer": "ipython2",
   "version": "2.7.12"
  }
 },
 "nbformat": 4,
 "nbformat_minor": 2
}
